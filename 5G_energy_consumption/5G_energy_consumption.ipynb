{
 "cells": [
  {
   "cell_type": "markdown",
   "metadata": {},
   "source": [
    "***Checkpoint problematic***  : Network operational expenditure (OPEX) already accounts for around 25 percent of the total telecom operator’s cost, and 90 percent of it is spent on large energy bills. More than 70 percent of this energy is estimated to be consumed by the radio access network (RAN), particularly by the base stations (BSs). Thus, the objective is to build and train a ML model to estimate the energy consumed by different 5G base stations taking into consideration the impact of various engineering configurations, traffic conditions, and energy-saving methods.\n",
    "\n",
    "***Dataset description*** : This dataset is derived from the original copy and simplified for learning purposes. It includes cell-level traffic statistics of 4G/5G sites collected on different days.\n",
    "\n",
    "\n",
    "![Image](https://i.imgur.com/Agu9zeP_d.webp?maxwidth=760&fidelity=grand)\n",
    "\n",
    "## Instructions\n",
    "\n",
    "1. Import you data and perform basic data exploration phase\n",
    " - Display general information about the dataset\n",
    " - Create a pandas profiling reports to gain insights into the dataset\n",
    " - Handle Missing and corrupted values\n",
    " - Remove duplicates, if they exist\n",
    " - Handle outliers, if they exist\n",
    " - Encode categorical features\n",
    "2. Select your target variable and the features\n",
    "3. Split your dataset to training and test sets\n",
    "4. Based on your data exploration phase select a ML regression algorithm and train it on the training set\n",
    "5. Assess your model performance on the test set using relevant evaluation metrics\n",
    "6. Discuss with your cohort alternative ways to improve your model performance"
   ]
  },
  {
   "cell_type": "markdown",
   "metadata": {},
   "source": [
    "# Import Libraries "
   ]
  },
  {
   "cell_type": "code",
   "execution_count": 20,
   "metadata": {},
   "outputs": [],
   "source": [
    "import numpy as np\n",
    "import pandas as pd\n",
    "import matplotlib.pyplot as plt\n",
    "import seaborn as sns\n",
    "import sklearn.datasets\n",
    "from sklearn.model_selection import train_test_split\n",
    "from sklearn.linear_model import LinearRegression\n",
    "from sklearn import metrics\n",
    "import os"
   ]
  },
  {
   "cell_type": "markdown",
   "metadata": {},
   "source": [
    "# Extract Data"
   ]
  },
  {
   "cell_type": "code",
   "execution_count": 4,
   "metadata": {},
   "outputs": [],
   "source": [
    "data_path = r\"C:\\Users\\Elle\\Desktop\\MACHINE LEARNING\\ML_CheckPoints\\5G_energy_consumption\\5G_energy_consumption_dataset.csv\""
   ]
  },
  {
   "cell_type": "code",
   "execution_count": 5,
   "metadata": {},
   "outputs": [
    {
     "data": {
      "text/plain": [
       "'C:\\\\Users\\\\Elle\\\\Desktop\\\\MACHINE LEARNING\\\\ML_CheckPoints\\\\5G_energy_consumption\\\\5G_energy_consumption_dataset.csv\\\\5G_energy_consumption_dataset.csv'"
      ]
     },
     "execution_count": 5,
     "metadata": {},
     "output_type": "execute_result"
    }
   ],
   "source": [
    "file_name = \"5G_energy_consumption_dataset.csv\"\n",
    "final_path = os.path.join (data_path , file_name)\n",
    "final_path"
   ]
  },
  {
   "cell_type": "code",
   "execution_count": 6,
   "metadata": {},
   "outputs": [],
   "source": [
    "data = pd.read_csv(\"5G_energy_consumption_dataset.csv\")"
   ]
  },
  {
   "cell_type": "markdown",
   "metadata": {},
   "source": [
    "# Explortory Data Analysis "
   ]
  },
  {
   "cell_type": "code",
   "execution_count": 7,
   "metadata": {},
   "outputs": [
    {
     "data": {
      "text/plain": [
       "(92629, 6)"
      ]
     },
     "execution_count": 7,
     "metadata": {},
     "output_type": "execute_result"
    }
   ],
   "source": [
    "data.shape"
   ]
  },
  {
   "cell_type": "code",
   "execution_count": 8,
   "metadata": {},
   "outputs": [
    {
     "data": {
      "text/html": [
       "<div>\n",
       "<style scoped>\n",
       "    .dataframe tbody tr th:only-of-type {\n",
       "        vertical-align: middle;\n",
       "    }\n",
       "\n",
       "    .dataframe tbody tr th {\n",
       "        vertical-align: top;\n",
       "    }\n",
       "\n",
       "    .dataframe thead th {\n",
       "        text-align: right;\n",
       "    }\n",
       "</style>\n",
       "<table border=\"1\" class=\"dataframe\">\n",
       "  <thead>\n",
       "    <tr style=\"text-align: right;\">\n",
       "      <th></th>\n",
       "      <th>Time</th>\n",
       "      <th>BS</th>\n",
       "      <th>Energy</th>\n",
       "      <th>load</th>\n",
       "      <th>ESMODE</th>\n",
       "      <th>TXpower</th>\n",
       "    </tr>\n",
       "  </thead>\n",
       "  <tbody>\n",
       "    <tr>\n",
       "      <th>92624</th>\n",
       "      <td>20230102 170000</td>\n",
       "      <td>B_1018</td>\n",
       "      <td>14.648729</td>\n",
       "      <td>0.087538</td>\n",
       "      <td>0.0</td>\n",
       "      <td>7.325859</td>\n",
       "    </tr>\n",
       "    <tr>\n",
       "      <th>92625</th>\n",
       "      <td>20230102 180000</td>\n",
       "      <td>B_1018</td>\n",
       "      <td>14.648729</td>\n",
       "      <td>0.082635</td>\n",
       "      <td>0.0</td>\n",
       "      <td>7.325859</td>\n",
       "    </tr>\n",
       "    <tr>\n",
       "      <th>92626</th>\n",
       "      <td>20230102 210000</td>\n",
       "      <td>B_1018</td>\n",
       "      <td>13.452915</td>\n",
       "      <td>0.055538</td>\n",
       "      <td>0.0</td>\n",
       "      <td>7.325859</td>\n",
       "    </tr>\n",
       "    <tr>\n",
       "      <th>92627</th>\n",
       "      <td>20230102 220000</td>\n",
       "      <td>B_1018</td>\n",
       "      <td>13.602392</td>\n",
       "      <td>0.058077</td>\n",
       "      <td>0.0</td>\n",
       "      <td>7.325859</td>\n",
       "    </tr>\n",
       "    <tr>\n",
       "      <th>92628</th>\n",
       "      <td>20230102 230000</td>\n",
       "      <td>B_1018</td>\n",
       "      <td>13.303438</td>\n",
       "      <td>0.048173</td>\n",
       "      <td>0.0</td>\n",
       "      <td>7.325859</td>\n",
       "    </tr>\n",
       "  </tbody>\n",
       "</table>\n",
       "</div>"
      ],
      "text/plain": [
       "       Time              BS       Energy          load                   \\\n",
       "92624  20230102 170000   B_1018        14.648729               0.087538   \n",
       "92625  20230102 180000   B_1018        14.648729               0.082635   \n",
       "92626  20230102 210000   B_1018        13.452915               0.055538   \n",
       "92627  20230102 220000   B_1018        13.602392               0.058077   \n",
       "92628  20230102 230000   B_1018        13.303438               0.048173   \n",
       "\n",
       "       ESMODE                   TXpower  \n",
       "92624                     0.0  7.325859  \n",
       "92625                     0.0  7.325859  \n",
       "92626                     0.0  7.325859  \n",
       "92627                     0.0  7.325859  \n",
       "92628                     0.0  7.325859  "
      ]
     },
     "execution_count": 8,
     "metadata": {},
     "output_type": "execute_result"
    }
   ],
   "source": [
    "data.tail()"
   ]
  },
  {
   "cell_type": "code",
   "execution_count": 9,
   "metadata": {},
   "outputs": [
    {
     "data": {
      "text/html": [
       "<div>\n",
       "<style scoped>\n",
       "    .dataframe tbody tr th:only-of-type {\n",
       "        vertical-align: middle;\n",
       "    }\n",
       "\n",
       "    .dataframe tbody tr th {\n",
       "        vertical-align: top;\n",
       "    }\n",
       "\n",
       "    .dataframe thead th {\n",
       "        text-align: right;\n",
       "    }\n",
       "</style>\n",
       "<table border=\"1\" class=\"dataframe\">\n",
       "  <thead>\n",
       "    <tr style=\"text-align: right;\">\n",
       "      <th></th>\n",
       "      <th>Time</th>\n",
       "      <th>BS</th>\n",
       "      <th>Energy</th>\n",
       "      <th>load</th>\n",
       "      <th>ESMODE</th>\n",
       "      <th>TXpower</th>\n",
       "    </tr>\n",
       "  </thead>\n",
       "  <tbody>\n",
       "    <tr>\n",
       "      <th>0</th>\n",
       "      <td>20230101 010000</td>\n",
       "      <td>B_0</td>\n",
       "      <td>64.275037</td>\n",
       "      <td>0.487936</td>\n",
       "      <td>0.0</td>\n",
       "      <td>7.101719</td>\n",
       "    </tr>\n",
       "    <tr>\n",
       "      <th>1</th>\n",
       "      <td>20230101 020000</td>\n",
       "      <td>B_0</td>\n",
       "      <td>55.904335</td>\n",
       "      <td>0.344468</td>\n",
       "      <td>0.0</td>\n",
       "      <td>7.101719</td>\n",
       "    </tr>\n",
       "    <tr>\n",
       "      <th>2</th>\n",
       "      <td>20230101 030000</td>\n",
       "      <td>B_0</td>\n",
       "      <td>57.698057</td>\n",
       "      <td>0.193766</td>\n",
       "      <td>0.0</td>\n",
       "      <td>7.101719</td>\n",
       "    </tr>\n",
       "    <tr>\n",
       "      <th>3</th>\n",
       "      <td>20230101 040000</td>\n",
       "      <td>B_0</td>\n",
       "      <td>55.156951</td>\n",
       "      <td>0.222383</td>\n",
       "      <td>0.0</td>\n",
       "      <td>7.101719</td>\n",
       "    </tr>\n",
       "    <tr>\n",
       "      <th>4</th>\n",
       "      <td>20230101 050000</td>\n",
       "      <td>B_0</td>\n",
       "      <td>56.053812</td>\n",
       "      <td>0.175436</td>\n",
       "      <td>0.0</td>\n",
       "      <td>7.101719</td>\n",
       "    </tr>\n",
       "  </tbody>\n",
       "</table>\n",
       "</div>"
      ],
      "text/plain": [
       "   Time              BS       Energy          load                   \\\n",
       "0  20230101 010000   B_0           64.275037               0.487936   \n",
       "1  20230101 020000   B_0           55.904335               0.344468   \n",
       "2  20230101 030000   B_0           57.698057               0.193766   \n",
       "3  20230101 040000   B_0           55.156951               0.222383   \n",
       "4  20230101 050000   B_0           56.053812               0.175436   \n",
       "\n",
       "   ESMODE                   TXpower  \n",
       "0                     0.0  7.101719  \n",
       "1                     0.0  7.101719  \n",
       "2                     0.0  7.101719  \n",
       "3                     0.0  7.101719  \n",
       "4                     0.0  7.101719  "
      ]
     },
     "execution_count": 9,
     "metadata": {},
     "output_type": "execute_result"
    }
   ],
   "source": [
    "data.head()"
   ]
  },
  {
   "cell_type": "code",
   "execution_count": 10,
   "metadata": {},
   "outputs": [
    {
     "data": {
      "text/plain": [
       "Time                      20230101 010000 \n",
       "BS                                 B_0    \n",
       "Energy                           64.275037\n",
       "load                              0.487936\n",
       "ESMODE                                 0.0\n",
       "TXpower                           7.101719\n",
       "Name: 0, dtype: object"
      ]
     },
     "execution_count": 10,
     "metadata": {},
     "output_type": "execute_result"
    }
   ],
   "source": [
    "data.loc[0]"
   ]
  },
  {
   "cell_type": "code",
   "execution_count": 11,
   "metadata": {},
   "outputs": [
    {
     "name": "stdout",
     "output_type": "stream",
     "text": [
      "<class 'pandas.core.frame.DataFrame'>\n",
      "RangeIndex: 92629 entries, 0 to 92628\n",
      "Data columns (total 6 columns):\n",
      " #   Column                  Non-Null Count  Dtype  \n",
      "---  ------                  --------------  -----  \n",
      " 0   Time                    92629 non-null  object \n",
      " 1   BS                      92629 non-null  object \n",
      " 2   Energy                  92629 non-null  float64\n",
      " 3   load                    92629 non-null  float64\n",
      " 4   ESMODE                  92629 non-null  float64\n",
      " 5   TXpower                 92629 non-null  float64\n",
      "dtypes: float64(4), object(2)\n",
      "memory usage: 4.2+ MB\n"
     ]
    }
   ],
   "source": [
    "data.info()"
   ]
  },
  {
   "cell_type": "code",
   "execution_count": 12,
   "metadata": {},
   "outputs": [
    {
     "data": {
      "text/plain": [
       "Time                      0\n",
       "BS                        0\n",
       "Energy                    0\n",
       "load                      0\n",
       "ESMODE                    0\n",
       "TXpower                   0\n",
       "dtype: int64"
      ]
     },
     "execution_count": 12,
     "metadata": {},
     "output_type": "execute_result"
    }
   ],
   "source": [
    "data.isnull().sum()"
   ]
  },
  {
   "cell_type": "code",
   "execution_count": 33,
   "metadata": {},
   "outputs": [
    {
     "data": {
      "text/plain": [
       "(4, 8)"
      ]
     },
     "execution_count": 33,
     "metadata": {},
     "output_type": "execute_result"
    }
   ],
   "source": [
    "describtion = data.describe().T\n",
    "describtion.shape"
   ]
  },
  {
   "cell_type": "code",
   "execution_count": 45,
   "metadata": {},
   "outputs": [
    {
     "data": {
      "text/html": [
       "<div>\n",
       "<style scoped>\n",
       "    .dataframe tbody tr th:only-of-type {\n",
       "        vertical-align: middle;\n",
       "    }\n",
       "\n",
       "    .dataframe tbody tr th {\n",
       "        vertical-align: top;\n",
       "    }\n",
       "\n",
       "    .dataframe thead th {\n",
       "        text-align: right;\n",
       "    }\n",
       "</style>\n",
       "<table border=\"1\" class=\"dataframe\">\n",
       "  <thead>\n",
       "    <tr style=\"text-align: right;\">\n",
       "      <th></th>\n",
       "      <th>count</th>\n",
       "      <th>mean</th>\n",
       "      <th>std</th>\n",
       "      <th>min</th>\n",
       "      <th>25%</th>\n",
       "      <th>50%</th>\n",
       "      <th>75%</th>\n",
       "      <th>max</th>\n",
       "    </tr>\n",
       "  </thead>\n",
       "  <tbody>\n",
       "    <tr>\n",
       "      <th>Energy</th>\n",
       "      <td>92629.0</td>\n",
       "      <td>28.138997</td>\n",
       "      <td>13.934645</td>\n",
       "      <td>0.747384</td>\n",
       "      <td>18.236173</td>\n",
       "      <td>24.065770</td>\n",
       "      <td>35.724963</td>\n",
       "      <td>100.000000</td>\n",
       "    </tr>\n",
       "    <tr>\n",
       "      <th>load</th>\n",
       "      <td>92629.0</td>\n",
       "      <td>0.244705</td>\n",
       "      <td>0.234677</td>\n",
       "      <td>0.000000</td>\n",
       "      <td>0.057370</td>\n",
       "      <td>0.165550</td>\n",
       "      <td>0.363766</td>\n",
       "      <td>0.993957</td>\n",
       "    </tr>\n",
       "    <tr>\n",
       "      <th>ESMODE</th>\n",
       "      <td>92629.0</td>\n",
       "      <td>0.081361</td>\n",
       "      <td>0.382317</td>\n",
       "      <td>0.000000</td>\n",
       "      <td>0.000000</td>\n",
       "      <td>0.000000</td>\n",
       "      <td>0.000000</td>\n",
       "      <td>4.000000</td>\n",
       "    </tr>\n",
       "    <tr>\n",
       "      <th>TXpower</th>\n",
       "      <td>92629.0</td>\n",
       "      <td>6.765427</td>\n",
       "      <td>0.309929</td>\n",
       "      <td>5.381166</td>\n",
       "      <td>6.427504</td>\n",
       "      <td>6.875934</td>\n",
       "      <td>6.875934</td>\n",
       "      <td>8.375336</td>\n",
       "    </tr>\n",
       "  </tbody>\n",
       "</table>\n",
       "</div>"
      ],
      "text/plain": [
       "                          count       mean        std       min        25%  \\\n",
       "Energy                  92629.0  28.138997  13.934645  0.747384  18.236173   \n",
       "load                    92629.0   0.244705   0.234677  0.000000   0.057370   \n",
       "ESMODE                  92629.0   0.081361   0.382317  0.000000   0.000000   \n",
       "TXpower                 92629.0   6.765427   0.309929  5.381166   6.427504   \n",
       "\n",
       "                              50%        75%         max  \n",
       "Energy                  24.065770  35.724963  100.000000  \n",
       "load                     0.165550   0.363766    0.993957  \n",
       "ESMODE                   0.000000   0.000000    4.000000  \n",
       "TXpower                  6.875934   6.875934    8.375336  "
      ]
     },
     "execution_count": 45,
     "metadata": {},
     "output_type": "execute_result"
    }
   ],
   "source": [
    "data.describe().T"
   ]
  },
  {
   "cell_type": "code",
   "execution_count": 34,
   "metadata": {},
   "outputs": [
    {
     "data": {
      "text/html": [
       "<div>\n",
       "<style scoped>\n",
       "    .dataframe tbody tr th:only-of-type {\n",
       "        vertical-align: middle;\n",
       "    }\n",
       "\n",
       "    .dataframe tbody tr th {\n",
       "        vertical-align: top;\n",
       "    }\n",
       "\n",
       "    .dataframe thead th {\n",
       "        text-align: right;\n",
       "    }\n",
       "</style>\n",
       "<table border=\"1\" class=\"dataframe\">\n",
       "  <thead>\n",
       "    <tr style=\"text-align: right;\">\n",
       "      <th></th>\n",
       "      <th>count</th>\n",
       "      <th>mean</th>\n",
       "      <th>std</th>\n",
       "      <th>min</th>\n",
       "      <th>25%</th>\n",
       "      <th>50%</th>\n",
       "      <th>75%</th>\n",
       "      <th>max</th>\n",
       "      <th>nunique</th>\n",
       "      <th>NULLS</th>\n",
       "    </tr>\n",
       "  </thead>\n",
       "  <tbody>\n",
       "    <tr>\n",
       "      <th>Energy</th>\n",
       "      <td>92629.0</td>\n",
       "      <td>28.138997</td>\n",
       "      <td>13.934645</td>\n",
       "      <td>0.747384</td>\n",
       "      <td>18.236173</td>\n",
       "      <td>24.065770</td>\n",
       "      <td>35.724963</td>\n",
       "      <td>100.000000</td>\n",
       "      <td>612</td>\n",
       "      <td>0</td>\n",
       "    </tr>\n",
       "    <tr>\n",
       "      <th>load</th>\n",
       "      <td>92629.0</td>\n",
       "      <td>0.244705</td>\n",
       "      <td>0.234677</td>\n",
       "      <td>0.000000</td>\n",
       "      <td>0.057370</td>\n",
       "      <td>0.165550</td>\n",
       "      <td>0.363766</td>\n",
       "      <td>0.993957</td>\n",
       "      <td>58563</td>\n",
       "      <td>0</td>\n",
       "    </tr>\n",
       "    <tr>\n",
       "      <th>ESMODE</th>\n",
       "      <td>92629.0</td>\n",
       "      <td>0.081361</td>\n",
       "      <td>0.382317</td>\n",
       "      <td>0.000000</td>\n",
       "      <td>0.000000</td>\n",
       "      <td>0.000000</td>\n",
       "      <td>0.000000</td>\n",
       "      <td>4.000000</td>\n",
       "      <td>1713</td>\n",
       "      <td>0</td>\n",
       "    </tr>\n",
       "    <tr>\n",
       "      <th>TXpower</th>\n",
       "      <td>92629.0</td>\n",
       "      <td>6.765427</td>\n",
       "      <td>0.309929</td>\n",
       "      <td>5.381166</td>\n",
       "      <td>6.427504</td>\n",
       "      <td>6.875934</td>\n",
       "      <td>6.875934</td>\n",
       "      <td>8.375336</td>\n",
       "      <td>41</td>\n",
       "      <td>0</td>\n",
       "    </tr>\n",
       "  </tbody>\n",
       "</table>\n",
       "</div>"
      ],
      "text/plain": [
       "                          count       mean        std       min        25%  \\\n",
       "Energy                  92629.0  28.138997  13.934645  0.747384  18.236173   \n",
       "load                    92629.0   0.244705   0.234677  0.000000   0.057370   \n",
       "ESMODE                  92629.0   0.081361   0.382317  0.000000   0.000000   \n",
       "TXpower                 92629.0   6.765427   0.309929  5.381166   6.427504   \n",
       "\n",
       "                              50%        75%         max  nunique  NULLS  \n",
       "Energy                  24.065770  35.724963  100.000000      612      0  \n",
       "load                     0.165550   0.363766    0.993957    58563      0  \n",
       "ESMODE                   0.000000   0.000000    4.000000     1713      0  \n",
       "TXpower                  6.875934   6.875934    8.375336       41      0  "
      ]
     },
     "execution_count": 34,
     "metadata": {},
     "output_type": "execute_result"
    }
   ],
   "source": [
    "selected_columns = data.select_dtypes(exclude=['object'])\n",
    "describtion['nunique']=selected_columns.nunique()\n",
    "describtion['NULLS']=selected_columns.isna().sum()\n",
    "describtion"
   ]
  },
  {
   "cell_type": "code",
   "execution_count": null,
   "metadata": {},
   "outputs": [],
   "source": [
    "'''profile = pandas_profiling.ProfileReport(df)\n",
    "profile.to_file(\"data_exploration_report.html\")"
   ]
  },
  {
   "cell_type": "code",
   "execution_count": null,
   "metadata": {},
   "outputs": [],
   "source": [
    "data.fillna(data.mean(), inplace=True)"
   ]
  }
 ],
 "metadata": {
  "kernelspec": {
   "display_name": "Python 3",
   "language": "python",
   "name": "python3"
  },
  "language_info": {
   "codemirror_mode": {
    "name": "ipython",
    "version": 3
   },
   "file_extension": ".py",
   "mimetype": "text/x-python",
   "name": "python",
   "nbconvert_exporter": "python",
   "pygments_lexer": "ipython3",
   "version": "3.12.2"
  }
 },
 "nbformat": 4,
 "nbformat_minor": 2
}
